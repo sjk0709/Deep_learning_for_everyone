{
 "cells": [
  {
   "cell_type": "code",
   "execution_count": 1,
   "metadata": {},
   "outputs": [],
   "source": [
    "import pandas as pd\n",
    "#df = pd.read_csv('../dataset/wine.csv', header=None)\n",
    "df_pre = pd.read_csv('../dataset/wine.csv', \n",
    "                 names=['주석산 농도', '아세트산 농도', '구연산 농도', '잔류 당분 농도', '염화나트륨 농도', '유리 아황산 농도', '총 아황산 농도', '밀도', 'pH', '황산칼륨 농도', \n",
    "                        '알코올 도수', '와인의 맛', 'class'])\n",
    "# df = df_pre.sample(frac=1.0)\n",
    "df = df_pre"
   ]
  },
  {
   "cell_type": "code",
   "execution_count": 2,
   "metadata": {},
   "outputs": [
    {
     "name": "stdout",
     "output_type": "stream",
     "text": [
      "<class 'pandas.core.frame.DataFrame'>\n",
      "RangeIndex: 6497 entries, 0 to 6496\n",
      "Data columns (total 13 columns):\n",
      " #   Column     Non-Null Count  Dtype  \n",
      "---  ------     --------------  -----  \n",
      " 0   주석산 농도     6497 non-null   float64\n",
      " 1   아세트산 농도    6497 non-null   float64\n",
      " 2   구연산 농도     6497 non-null   float64\n",
      " 3   잔류 당분 농도   6497 non-null   float64\n",
      " 4   염화나트륨 농도   6497 non-null   float64\n",
      " 5   유리 아황산 농도  6497 non-null   float64\n",
      " 6   총 아황산 농도   6497 non-null   float64\n",
      " 7   밀도         6497 non-null   float64\n",
      " 8   pH         6497 non-null   float64\n",
      " 9   황산칼륨 농도    6497 non-null   float64\n",
      " 10  알코올 도수     6497 non-null   float64\n",
      " 11  와인의 맛      6497 non-null   int64  \n",
      " 12  class      6497 non-null   int64  \n",
      "dtypes: float64(11), int64(2)\n",
      "memory usage: 660.0 KB\n",
      "None\n"
     ]
    }
   ],
   "source": [
    "#print(df.head())\n",
    "print(df.info())\n",
    "#print(df.describe())"
   ]
  },
  {
   "cell_type": "code",
   "execution_count": 3,
   "metadata": {},
   "outputs": [
    {
     "data": {
      "text/html": [
       "<div>\n",
       "<style scoped>\n",
       "    .dataframe tbody tr th:only-of-type {\n",
       "        vertical-align: middle;\n",
       "    }\n",
       "\n",
       "    .dataframe tbody tr th {\n",
       "        vertical-align: top;\n",
       "    }\n",
       "\n",
       "    .dataframe thead th {\n",
       "        text-align: right;\n",
       "    }\n",
       "</style>\n",
       "<table border=\"1\" class=\"dataframe\">\n",
       "  <thead>\n",
       "    <tr style=\"text-align: right;\">\n",
       "      <th></th>\n",
       "      <th>주석산 농도</th>\n",
       "      <th>class</th>\n",
       "    </tr>\n",
       "  </thead>\n",
       "  <tbody>\n",
       "    <tr>\n",
       "      <th>0</th>\n",
       "      <td>7.4</td>\n",
       "      <td>1</td>\n",
       "    </tr>\n",
       "    <tr>\n",
       "      <th>1</th>\n",
       "      <td>7.8</td>\n",
       "      <td>1</td>\n",
       "    </tr>\n",
       "    <tr>\n",
       "      <th>2</th>\n",
       "      <td>7.8</td>\n",
       "      <td>1</td>\n",
       "    </tr>\n",
       "    <tr>\n",
       "      <th>3</th>\n",
       "      <td>11.2</td>\n",
       "      <td>1</td>\n",
       "    </tr>\n",
       "    <tr>\n",
       "      <th>4</th>\n",
       "      <td>7.4</td>\n",
       "      <td>1</td>\n",
       "    </tr>\n",
       "    <tr>\n",
       "      <th>...</th>\n",
       "      <td>...</td>\n",
       "      <td>...</td>\n",
       "    </tr>\n",
       "    <tr>\n",
       "      <th>6492</th>\n",
       "      <td>6.2</td>\n",
       "      <td>0</td>\n",
       "    </tr>\n",
       "    <tr>\n",
       "      <th>6493</th>\n",
       "      <td>6.6</td>\n",
       "      <td>0</td>\n",
       "    </tr>\n",
       "    <tr>\n",
       "      <th>6494</th>\n",
       "      <td>6.5</td>\n",
       "      <td>0</td>\n",
       "    </tr>\n",
       "    <tr>\n",
       "      <th>6495</th>\n",
       "      <td>5.5</td>\n",
       "      <td>0</td>\n",
       "    </tr>\n",
       "    <tr>\n",
       "      <th>6496</th>\n",
       "      <td>6.0</td>\n",
       "      <td>0</td>\n",
       "    </tr>\n",
       "  </tbody>\n",
       "</table>\n",
       "<p>6497 rows × 2 columns</p>\n",
       "</div>"
      ],
      "text/plain": [
       "      주석산 농도  class\n",
       "0        7.4      1\n",
       "1        7.8      1\n",
       "2        7.8      1\n",
       "3       11.2      1\n",
       "4        7.4      1\n",
       "...      ...    ...\n",
       "6492     6.2      0\n",
       "6493     6.6      0\n",
       "6494     6.5      0\n",
       "6495     5.5      0\n",
       "6496     6.0      0\n",
       "\n",
       "[6497 rows x 2 columns]"
      ]
     },
     "execution_count": 3,
     "metadata": {},
     "output_type": "execute_result"
    }
   ],
   "source": [
    "df[['주석산 농도', 'class']]"
   ]
  },
  {
   "cell_type": "code",
   "execution_count": 4,
   "metadata": {},
   "outputs": [
    {
     "name": "stdout",
     "output_type": "stream",
     "text": [
      "2.1.0\n"
     ]
    }
   ],
   "source": [
    "import numpy as np\n",
    "import tensorflow as tf\n",
    "from tensorflow.keras.models import Sequential\n",
    "from tensorflow.keras.layers import Dense\n",
    "from tensorflow.keras.callbacks import EarlyStopping\n",
    "from tensorflow.keras.callbacks import ModelCheckpoint\n",
    "import os\n",
    "print(tf.__version__)\n",
    "\n",
    "# seed값 생성\n",
    "np.random.seed(3)\n",
    "tf.random.set_seed(3)\n",
    "\n",
    "X = df.drop(['class'], axis=1, inplace=False).values  # inplacebool, default False If False, return a copy. Otherwise, do operation inplace and return None.\n",
    "Y = df[['class']].values"
   ]
  },
  {
   "cell_type": "code",
   "execution_count": 5,
   "metadata": {},
   "outputs": [
    {
     "name": "stdout",
     "output_type": "stream",
     "text": [
      "Model: \"sequential\"\n",
      "_________________________________________________________________\n",
      "Layer (type)                 Output Shape              Param #   \n",
      "=================================================================\n",
      "dense (Dense)                (None, 30)                390       \n",
      "_________________________________________________________________\n",
      "dense_1 (Dense)              (None, 12)                372       \n",
      "_________________________________________________________________\n",
      "dense_2 (Dense)              (None, 8)                 104       \n",
      "_________________________________________________________________\n",
      "dense_3 (Dense)              (None, 1)                 9         \n",
      "=================================================================\n",
      "Total params: 875\n",
      "Trainable params: 875\n",
      "Non-trainable params: 0\n",
      "_________________________________________________________________\n"
     ]
    }
   ],
   "source": [
    "def build_model():\n",
    "    model = Sequential([\n",
    "        Dense(30, input_shape=(12,), activation='relu'),\n",
    "        Dense(12, activation='relu'),\n",
    "        Dense(8, activation='relu'),\n",
    "        Dense(1)\n",
    "    ])\n",
    "    loss = tf.keras.losses.BinaryCrossentropy(from_logits=True)\n",
    "    optimizer = tf.keras.optimizers.Adam(1e-4)\n",
    "    model.compile(loss=loss,\n",
    "                 optimizer=optimizer,\n",
    "                 metrics=['accuracy'])\n",
    "    return model\n",
    "\n",
    "model = build_model()\n",
    "model.summary()"
   ]
  },
  {
   "cell_type": "code",
   "execution_count": 6,
   "metadata": {},
   "outputs": [
    {
     "name": "stdout",
     "output_type": "stream",
     "text": [
      "WARNING:tensorflow:`period` argument is deprecated. Please use `save_freq` to specify the frequency in number of samples seen.\n"
     ]
    }
   ],
   "source": [
    "# 모델 저장 폴더 만들기\n",
    "model_dir = './saved_model_tf/'\n",
    "if not os.path.exists(model_dir):\n",
    "    os.mkdir(model_dir)\n",
    "\n",
    "model_path = model_dir + \"{epoch:04d}-{val_loss:.4f}.hdf5\"\n",
    "\n",
    "# 모델 업데이트 및 저장\n",
    "checkpointer = ModelCheckpoint(\n",
    "    filepath=model_path, \n",
    "    monitor='val_loss',         \n",
    "    # mode='min',        \n",
    "    verbose=1, # verbosity mode, 0 or 1.\n",
    "    # save_best_only=True,\n",
    "    save_weights_only=True,    \n",
    "    #save_freq='epoch',\n",
    "    period=50)\n",
    "    \n",
    "# 학습 자동 중단 설정\n",
    "early_stopping_callback = EarlyStopping(monitor='val_loss', mode='min', verbose=1, patience=50, baseline=0.4)"
   ]
  },
  {
   "cell_type": "code",
   "execution_count": 7,
   "metadata": {},
   "outputs": [
    {
     "name": "stdout",
     "output_type": "stream",
     "text": [
      "Train on 5197 samples, validate on 1300 samples\n",
      "Epoch 1/3500\n",
      "5197/5197 [==============================] - 1s 164us/sample - loss: 1.7674 - accuracy: 0.6923 - val_loss: 0.0029 - val_accuracy: 1.0000\n",
      "Epoch 2/3500\n",
      "5197/5197 [==============================] - 0s 28us/sample - loss: 0.8695 - accuracy: 0.6917 - val_loss: 0.2750 - val_accuracy: 0.9785\n",
      "Epoch 3/3500\n",
      "5197/5197 [==============================] - 0s 32us/sample - loss: 0.6260 - accuracy: 0.6919 - val_loss: 0.2003 - val_accuracy: 0.9877\n",
      "Epoch 4/3500\n",
      "5197/5197 [==============================] - 0s 26us/sample - loss: 0.5555 - accuracy: 0.6925 - val_loss: 0.2050 - val_accuracy: 0.9877\n",
      "Epoch 5/3500\n",
      "5197/5197 [==============================] - 0s 26us/sample - loss: 0.4991 - accuracy: 0.6956 - val_loss: 0.2110 - val_accuracy: 0.9862\n",
      "Epoch 6/3500\n",
      "5197/5197 [==============================] - 0s 27us/sample - loss: 0.4533 - accuracy: 0.7079 - val_loss: 0.1920 - val_accuracy: 0.9892\n",
      "Epoch 7/3500\n",
      "5197/5197 [==============================] - 0s 26us/sample - loss: 0.4165 - accuracy: 0.7322 - val_loss: 0.1864 - val_accuracy: 0.9885\n",
      "Epoch 8/3500\n",
      "5197/5197 [==============================] - 0s 27us/sample - loss: 0.3871 - accuracy: 0.7654 - val_loss: 0.1948 - val_accuracy: 0.9862\n",
      "Epoch 9/3500\n",
      "5197/5197 [==============================] - 0s 31us/sample - loss: 0.3634 - accuracy: 0.7951 - val_loss: 0.2415 - val_accuracy: 0.9746\n",
      "Epoch 10/3500\n",
      "5197/5197 [==============================] - 0s 28us/sample - loss: 0.3445 - accuracy: 0.8257 - val_loss: 0.1869 - val_accuracy: 0.9808\n",
      "Epoch 11/3500\n",
      "5197/5197 [==============================] - 0s 27us/sample - loss: 0.3295 - accuracy: 0.8490 - val_loss: 0.2098 - val_accuracy: 0.9762\n",
      "Epoch 12/3500\n",
      "5197/5197 [==============================] - 0s 27us/sample - loss: 0.3169 - accuracy: 0.8636 - val_loss: 0.1975 - val_accuracy: 0.9762\n",
      "Epoch 13/3500\n",
      "5197/5197 [==============================] - 0s 28us/sample - loss: 0.3068 - accuracy: 0.8747 - val_loss: 0.2115 - val_accuracy: 0.9700\n",
      "Epoch 14/3500\n",
      "5197/5197 [==============================] - 0s 27us/sample - loss: 0.2980 - accuracy: 0.8847 - val_loss: 0.2073 - val_accuracy: 0.9692\n",
      "Epoch 15/3500\n",
      "5197/5197 [==============================] - 0s 27us/sample - loss: 0.2907 - accuracy: 0.8913 - val_loss: 0.2034 - val_accuracy: 0.9692\n",
      "Epoch 16/3500\n",
      "5197/5197 [==============================] - 0s 26us/sample - loss: 0.2844 - accuracy: 0.8936 - val_loss: 0.1956 - val_accuracy: 0.9685\n",
      "Epoch 17/3500\n",
      "5197/5197 [==============================] - 0s 28us/sample - loss: 0.2792 - accuracy: 0.8976 - val_loss: 0.1969 - val_accuracy: 0.9669\n",
      "Epoch 18/3500\n",
      "5197/5197 [==============================] - 0s 28us/sample - loss: 0.2749 - accuracy: 0.9019 - val_loss: 0.2015 - val_accuracy: 0.9654\n",
      "Epoch 19/3500\n",
      "5197/5197 [==============================] - 0s 28us/sample - loss: 0.2709 - accuracy: 0.9036 - val_loss: 0.1811 - val_accuracy: 0.9654\n",
      "Epoch 20/3500\n",
      "5197/5197 [==============================] - 0s 27us/sample - loss: 0.2680 - accuracy: 0.9063 - val_loss: 0.1783 - val_accuracy: 0.9646\n",
      "Epoch 21/3500\n",
      "5197/5197 [==============================] - 0s 27us/sample - loss: 0.2643 - accuracy: 0.9078 - val_loss: 0.1954 - val_accuracy: 0.9631\n",
      "Epoch 22/3500\n",
      "5197/5197 [==============================] - 0s 29us/sample - loss: 0.2617 - accuracy: 0.9101 - val_loss: 0.1759 - val_accuracy: 0.9654\n",
      "Epoch 23/3500\n",
      "5197/5197 [==============================] - 0s 29us/sample - loss: 0.2591 - accuracy: 0.9103 - val_loss: 0.2028 - val_accuracy: 0.9608\n",
      "Epoch 24/3500\n",
      "5197/5197 [==============================] - 0s 27us/sample - loss: 0.2572 - accuracy: 0.9117 - val_loss: 0.1833 - val_accuracy: 0.9631\n",
      "Epoch 25/3500\n",
      "5197/5197 [==============================] - 0s 27us/sample - loss: 0.2550 - accuracy: 0.9123 - val_loss: 0.1663 - val_accuracy: 0.9654\n",
      "Epoch 26/3500\n",
      "5197/5197 [==============================] - 0s 28us/sample - loss: 0.2529 - accuracy: 0.9126 - val_loss: 0.1832 - val_accuracy: 0.9631\n",
      "Epoch 27/3500\n",
      "5197/5197 [==============================] - 0s 28us/sample - loss: 0.2512 - accuracy: 0.9142 - val_loss: 0.2114 - val_accuracy: 0.9531\n",
      "Epoch 28/3500\n",
      "5197/5197 [==============================] - 0s 27us/sample - loss: 0.2505 - accuracy: 0.9119 - val_loss: 0.2032 - val_accuracy: 0.9569\n",
      "Epoch 29/3500\n",
      "5197/5197 [==============================] - 0s 29us/sample - loss: 0.2483 - accuracy: 0.9136 - val_loss: 0.1912 - val_accuracy: 0.9623\n",
      "Epoch 30/3500\n",
      "5197/5197 [==============================] - 0s 27us/sample - loss: 0.2462 - accuracy: 0.9142 - val_loss: 0.1772 - val_accuracy: 0.9638\n",
      "Epoch 31/3500\n",
      "5197/5197 [==============================] - 0s 30us/sample - loss: 0.2450 - accuracy: 0.9142 - val_loss: 0.1695 - val_accuracy: 0.9638\n",
      "Epoch 32/3500\n",
      "5197/5197 [==============================] - 0s 27us/sample - loss: 0.2438 - accuracy: 0.9146 - val_loss: 0.1796 - val_accuracy: 0.9638\n",
      "Epoch 33/3500\n",
      "5197/5197 [==============================] - 0s 27us/sample - loss: 0.2418 - accuracy: 0.9144 - val_loss: 0.1818 - val_accuracy: 0.9638\n",
      "Epoch 34/3500\n",
      "5197/5197 [==============================] - 0s 26us/sample - loss: 0.2404 - accuracy: 0.9153 - val_loss: 0.1702 - val_accuracy: 0.9638\n",
      "Epoch 35/3500\n",
      "5197/5197 [==============================] - 0s 28us/sample - loss: 0.2390 - accuracy: 0.9153 - val_loss: 0.1704 - val_accuracy: 0.9638\n",
      "Epoch 36/3500\n",
      "5197/5197 [==============================] - 0s 27us/sample - loss: 0.2377 - accuracy: 0.9151 - val_loss: 0.1694 - val_accuracy: 0.9638\n",
      "Epoch 37/3500\n",
      "5197/5197 [==============================] - 0s 26us/sample - loss: 0.2366 - accuracy: 0.9150 - val_loss: 0.1763 - val_accuracy: 0.9638\n",
      "Epoch 38/3500\n",
      "5197/5197 [==============================] - 0s 27us/sample - loss: 0.2357 - accuracy: 0.9161 - val_loss: 0.1795 - val_accuracy: 0.9615\n",
      "Epoch 39/3500\n",
      "5197/5197 [==============================] - 0s 28us/sample - loss: 0.2340 - accuracy: 0.9165 - val_loss: 0.1810 - val_accuracy: 0.9615\n",
      "Epoch 40/3500\n",
      "5197/5197 [==============================] - 0s 27us/sample - loss: 0.2329 - accuracy: 0.9171 - val_loss: 0.1567 - val_accuracy: 0.9654\n",
      "Epoch 41/3500\n",
      "5197/5197 [==============================] - 0s 28us/sample - loss: 0.2315 - accuracy: 0.9169 - val_loss: 0.1587 - val_accuracy: 0.9646\n",
      "Epoch 42/3500\n",
      "5197/5197 [==============================] - 0s 28us/sample - loss: 0.2301 - accuracy: 0.9171 - val_loss: 0.1546 - val_accuracy: 0.9669\n",
      "Epoch 43/3500\n",
      "5197/5197 [==============================] - 0s 28us/sample - loss: 0.2290 - accuracy: 0.9171 - val_loss: 0.1555 - val_accuracy: 0.9677\n",
      "Epoch 44/3500\n",
      "5197/5197 [==============================] - 0s 25us/sample - loss: 0.2282 - accuracy: 0.9176 - val_loss: 0.1663 - val_accuracy: 0.9654\n",
      "Epoch 45/3500\n",
      "5197/5197 [==============================] - 0s 28us/sample - loss: 0.2266 - accuracy: 0.9176 - val_loss: 0.1518 - val_accuracy: 0.9685\n",
      "Epoch 46/3500\n",
      "5197/5197 [==============================] - 0s 29us/sample - loss: 0.2256 - accuracy: 0.9175 - val_loss: 0.1578 - val_accuracy: 0.9669\n",
      "Epoch 47/3500\n",
      "5197/5197 [==============================] - 0s 24us/sample - loss: 0.2245 - accuracy: 0.9173 - val_loss: 0.1741 - val_accuracy: 0.9646\n",
      "Epoch 48/3500\n",
      "5197/5197 [==============================] - 0s 26us/sample - loss: 0.2232 - accuracy: 0.9184 - val_loss: 0.1620 - val_accuracy: 0.9654\n",
      "Epoch 49/3500\n",
      "5197/5197 [==============================] - 0s 26us/sample - loss: 0.2225 - accuracy: 0.9182 - val_loss: 0.1567 - val_accuracy: 0.9669\n",
      "Epoch 50/3500\n",
      "4864/5197 [===========================>..] - ETA: 0s - loss: 0.2197 - accuracy: 0.9200\n",
      "Epoch 00050: saving model to ./saved_model_tf/0050-0.1830.hdf5\n",
      "5197/5197 [==============================] - 0s 29us/sample - loss: 0.2215 - accuracy: 0.9186 - val_loss: 0.1830 - val_accuracy: 0.9638\n",
      "Epoch 51/3500\n",
      "5197/5197 [==============================] - 0s 29us/sample - loss: 0.2200 - accuracy: 0.9188 - val_loss: 0.1501 - val_accuracy: 0.9700\n",
      "Epoch 00051: early stopping\n"
     ]
    }
   ],
   "source": [
    "history = model.fit(X, Y,\n",
    "                   validation_split=0.2,\n",
    "                   epochs=3500,\n",
    "                   batch_size = 128,\n",
    "                   verbose=1,  # Verbosity mode. 0 = silent, 1 = progress bar(default), 2 = one line per epoch. \n",
    "                   callbacks = [checkpointer, early_stopping_callback])"
   ]
  },
  {
   "cell_type": "code",
   "execution_count": 8,
   "metadata": {},
   "outputs": [
    {
     "name": "stdout",
     "output_type": "stream",
     "text": [
      "WARNING:tensorflow:From C:\\Anaconda3\\envs\\ml\\lib\\site-packages\\tensorflow_core\\python\\ops\\resource_variable_ops.py:1786: calling BaseResourceVariable.__init__ (from tensorflow.python.ops.resource_variable_ops) with constraint is deprecated and will be removed in a future version.\n",
      "Instructions for updating:\n",
      "If using Keras pass *_constraint arguments to layers.\n",
      "INFO:tensorflow:Assets written to: ./saved_model_tf/assets\n"
     ]
    }
   ],
   "source": [
    "'''Weight들만 저장하기'''\n",
    "model.save_weights('./checkpoints_tf/my_checkpoint')  # 수동으로 가중치 저장하기\n",
    "\n",
    "'''모델 전체 저장하기'''\n",
    "model.save(model_dir) # 전체 모델 저장하기"
   ]
  },
  {
   "cell_type": "code",
   "execution_count": 9,
   "metadata": {},
   "outputs": [
    {
     "name": "stdout",
     "output_type": "stream",
     "text": [
      "Model: \"sequential\"\n",
      "_________________________________________________________________\n",
      "Layer (type)                 Output Shape              Param #   \n",
      "=================================================================\n",
      "dense (Dense)                (None, 30)                390       \n",
      "_________________________________________________________________\n",
      "dense_1 (Dense)              (None, 12)                372       \n",
      "_________________________________________________________________\n",
      "dense_2 (Dense)              (None, 8)                 104       \n",
      "_________________________________________________________________\n",
      "dense_3 (Dense)              (None, 1)                 9         \n",
      "=================================================================\n",
      "Total params: 875\n",
      "Trainable params: 875\n",
      "Non-trainable params: 0\n",
      "_________________________________________________________________\n"
     ]
    }
   ],
   "source": [
    "'''모델 전체 불러오기'''\n",
    "new_model = tf.keras.models.load_model('./saved_model_tf') \n",
    "\n",
    "'''모델 구조를 확인'''\n",
    "new_model.summary()"
   ]
  },
  {
   "cell_type": "code",
   "execution_count": 10,
   "metadata": {},
   "outputs": [
    {
     "name": "stdout",
     "output_type": "stream",
     "text": [
      "6497/6497 - 0s - loss: 0.2051 - accuracy: 0.9286\n",
      "복원된 모델의 정확도: 92.86%\n",
      "(6497, 1)\n"
     ]
    }
   ],
   "source": [
    "# 복원된 모델 평가\n",
    "loss, acc = new_model.evaluate(X, Y, verbose=2)\n",
    "print('복원된 모델의 정확도: {:5.2f}%'.format(100*acc))\n",
    "print(new_model.predict(X).shape)"
   ]
  },
  {
   "cell_type": "code",
   "execution_count": 11,
   "metadata": {},
   "outputs": [
    {
     "name": "stdout",
     "output_type": "stream",
     "text": [
      "6497/6497 - 0s - loss: 0.2051 - accuracy: 0.9286\n",
      "0.2050594309279235\n",
      "복원된 모델의 정확도: 92.86%\n",
      "(6497, 1)\n"
     ]
    }
   ],
   "source": [
    "# 모델 weight 불러오기\n",
    "checkpoint_path = \"checkpoints_tf/my_checkpoint\"\n",
    "model.load_weights(checkpoint_path)\n",
    "\n",
    "loss, acc = model.evaluate(X, Y, verbose=2)\n",
    "print(loss)\n",
    "print(\"복원된 모델의 정확도: {:5.2f}%\".format(100*acc))\n",
    "\n",
    "print(model.predict(X).shape)"
   ]
  },
  {
   "cell_type": "code",
   "execution_count": null,
   "metadata": {},
   "outputs": [],
   "source": []
  },
  {
   "cell_type": "code",
   "execution_count": null,
   "metadata": {},
   "outputs": [],
   "source": []
  }
 ],
 "metadata": {
  "kernelspec": {
   "display_name": "Python 3",
   "language": "python",
   "name": "python3"
  },
  "language_info": {
   "codemirror_mode": {
    "name": "ipython",
    "version": 3
   },
   "file_extension": ".py",
   "mimetype": "text/x-python",
   "name": "python",
   "nbconvert_exporter": "python",
   "pygments_lexer": "ipython3",
   "version": "3.7.6"
  }
 },
 "nbformat": 4,
 "nbformat_minor": 4
}
